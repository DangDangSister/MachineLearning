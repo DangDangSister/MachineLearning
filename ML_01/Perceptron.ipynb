{
 "cells": [
  {
   "cell_type": "markdown",
   "metadata": {},
   "source": [
    "## 引入python库"
   ]
  },
  {
   "cell_type": "code",
   "execution_count": 1,
   "metadata": {
    "collapsed": true
   },
   "outputs": [],
   "source": [
    "import copy\n",
    "import matplotlib\n",
    "from matplotlib import pyplot as plt\n",
    "from matplotlib import animation\n",
    "import os"
   ]
  },
  {
   "cell_type": "markdown",
   "metadata": {},
   "source": [
    "## 生成数据集，初始化权重w和偏置b"
   ]
  },
  {
   "cell_type": "code",
   "execution_count": 2,
   "metadata": {
    "collapsed": true
   },
   "outputs": [],
   "source": [
    "#training_set = [[(3,3),1],[(4,3),1],[(1,1),-1]]\n",
    "training_set = [[(3,3),1],[(4,3),1],[(2,2),1],[(1,1),-1],[(0.5,0.5),-1],[(0.2,2),-1]]\n",
    "w = [0, 0]\n",
    "b = 0\n",
    "history = []"
   ]
  },
  {
   "cell_type": "markdown",
   "metadata": {},
   "source": [
    "## 定义参数更新函数"
   ]
  },
  {
   "cell_type": "code",
   "execution_count": 3,
   "metadata": {
    "collapsed": true
   },
   "outputs": [],
   "source": [
    "def update(item):\n",
    "    #使用梯度下降法更新参数w和b\n",
    "    #:param item: 一个被错误分类的点\n",
    "    #:return: 无\n",
    "    \n",
    "    global w,b, history   #定义全局变量，便于在函数内部访问\n",
    "    w[0] += 1*item[1] * item[0][0]\n",
    "    w[1] += 1*item[1] * item[0][1]\n",
    "    b += 1* item[1]\n",
    "    print('update  {0}   {1}'.format(w,b))\n",
    "    history.append([copy.copy(w),b])"
   ]
  },
  {
   "cell_type": "markdown",
   "metadata": {},
   "source": [
    "## 计算实例点到超平面距离"
   ]
  },
  {
   "cell_type": "code",
   "execution_count": 4,
   "metadata": {
    "collapsed": true
   },
   "outputs": [],
   "source": [
    "def distance(item):\n",
    "    #计算点item到超平面的距离并输出\n",
    "    #:param item:根据距离判断是否被误分类了\n",
    "    #:return:距离\n",
    "    \n",
    "    print('calculate {0}'.format(item))\n",
    "    res = 0\n",
    "    for i in range(len(item[0])):\n",
    "        res += item[0][i] * w[i]\n",
    "    res += b\n",
    "    res *= item[1]\n",
    "    return res"
   ]
  },
  {
   "cell_type": "markdown",
   "metadata": {},
   "source": [
    "## 检查超平面是否能完全正确分类所有实例"
   ]
  },
  {
   "cell_type": "code",
   "execution_count": 5,
   "metadata": {
    "collapsed": true
   },
   "outputs": [],
   "source": [
    "def check():\n",
    "    #检查超平面是否能完全区分所有的实例点\n",
    "    #：return: 返回flag\n",
    "    flag = False\n",
    "    #遍历每一个点，直到找到一个误分类点\n",
    "    for item in training_set:\n",
    "        if distance(item) <=0:  #如果是误分类点\n",
    "            flag = True\n",
    "            update(item)\n",
    "    if not flag:\n",
    "        print('result: w:' + str(w)+'b:'+str(b)) #若无误分类，则输出最终的w,b\n",
    "    return flag"
   ]
  },
  {
   "cell_type": "markdown",
   "metadata": {},
   "source": [
    "## 定义主函数，训练感知器并显示生成动画"
   ]
  },
  {
   "cell_type": "code",
   "execution_count": 6,
   "metadata": {
    "collapsed": false
   },
   "outputs": [
    {
     "name": "stdout",
     "output_type": "stream",
     "text": [
      "calculate [(3, 3), 1]\n",
      "update  [3, 3]   1\n",
      "calculate [(4, 3), 1]\n",
      "calculate [(2, 2), 1]\n",
      "calculate [(1, 1), -1]\n",
      "update  [2, 2]   0\n",
      "calculate [(0.5, 0.5), -1]\n",
      "update  [1.5, 1.5]   -1\n",
      "calculate [(0.2, 2), -1]\n",
      "update  [1.3, -0.5]   -2\n",
      "calculate [(3, 3), 1]\n",
      "calculate [(4, 3), 1]\n",
      "calculate [(2, 2), 1]\n",
      "update  [3.3, 1.5]   -1\n",
      "calculate [(1, 1), -1]\n",
      "update  [2.3, 0.5]   -2\n",
      "calculate [(0.5, 0.5), -1]\n",
      "calculate [(0.2, 2), -1]\n",
      "calculate [(3, 3), 1]\n",
      "calculate [(4, 3), 1]\n",
      "calculate [(2, 2), 1]\n",
      "calculate [(1, 1), -1]\n",
      "update  [1.2999999999999998, -0.5]   -3\n",
      "calculate [(0.5, 0.5), -1]\n",
      "calculate [(0.2, 2), -1]\n",
      "calculate [(3, 3), 1]\n",
      "update  [4.3, 2.5]   -2\n",
      "calculate [(4, 3), 1]\n",
      "calculate [(2, 2), 1]\n",
      "calculate [(1, 1), -1]\n",
      "update  [3.3, 1.5]   -3\n",
      "calculate [(0.5, 0.5), -1]\n",
      "calculate [(0.2, 2), -1]\n",
      "update  [3.0999999999999996, -0.5]   -4\n",
      "calculate [(3, 3), 1]\n",
      "calculate [(4, 3), 1]\n",
      "calculate [(2, 2), 1]\n",
      "calculate [(1, 1), -1]\n",
      "calculate [(0.5, 0.5), -1]\n",
      "calculate [(0.2, 2), -1]\n",
      "result: w:[3.0999999999999996, -0.5]b:-4\n"
     ]
    },
    {
     "data": {
      "image/png": "[encoded data removed]",
      "text/plain": [
       "<Figure size 432x288 with 1 Axes>"
      ]
     },
     "metadata": {
      "needs_background": "light"
     },
     "output_type": "display_data"
    }
   ],
   "source": [
    "if __name__ == '__main__':\n",
    "    epoches = 1000\n",
    "    for i in range(epoches):\n",
    "        if not check():break #如果已经没有误分类点，停止迭代\n",
    "    \n",
    "    #下面通过matplotlib显示算法过程\n",
    "    fig = plt.figure()  #要显示的图像\n",
    "    ax = plt.axes(xlim=(0,2),ylim=(-2,2)) #画坐标轴\n",
    "    line, = ax.plot(0,0,color='green',linewidth=2)\n",
    "    label = ax.text(0,0,'')\n",
    "    \n",
    "    #动画初始函数\n",
    "    def init():\n",
    "        line.set_data(0,0)\n",
    "        x,y,x_,y_ = [],[],[],[]\n",
    "        for p in training_set:\n",
    "            if p[1] > 0:\n",
    "                x.append(p[0][0])\n",
    "                y.append(p[0][1])\n",
    "            else:\n",
    "                x_.append(p[0][0])\n",
    "                y_.append(p[0][1])\n",
    "        plt.plot(x,y,'bo',x_,y_,'rx')\n",
    "        plt.axis([-6,6,-6,6])\n",
    "        plt.grid(True)\n",
    "        plt.xlabel('x')\n",
    "        plt.ylabel('y')\n",
    "        plt.title('Perceptron Algorithm')\n",
    "        \n",
    "        return line,label\n",
    "    #动画函数\n",
    "    def animate(i):\n",
    "        global history, ax,line,label\n",
    "        w = history[i][0]\n",
    "        b = history[i][1]\n",
    "        if w[1]==0:return line,label\n",
    "        x1 = -7\n",
    "        y1 = -(b+w[0]*x1)/w[1]\n",
    "        x2 = 7\n",
    "        y2 = -(b+w[0]*x2)/w[1]\n",
    "        line.set_data([x1,x2],[y1,y2])\n",
    "        x1 = 0\n",
    "        y1 = -(b+w[0]*x1)/w[1]\n",
    "        label.set_text(history[i])\n",
    "        label.set_position((x1,y1))\n",
    "       \n",
    "        return line, label\n",
    "    anim = animation.FuncAnimation(fig,animate,init_func=init,frames=len(history),interval=epoches,repeat=True,blit=True)\n",
    "    anim.save('perceptron.gif',writer='pillow')"
   ]
  },
  {
   "cell_type": "markdown",
   "metadata": {},
   "source": [
    "## 定义预测函数,用于新实例点的分类预测"
   ]
  },
  {
   "cell_type": "code",
   "execution_count": 7,
   "metadata": {
    "collapsed": false
   },
   "outputs": [
    {
     "name": "stdout",
     "output_type": "stream",
     "text": [
      "w: [3.0999999999999996, -0.5]b: -4\n",
      "预测类别：1\n",
      "预测类别：-1\n",
      "预测类别：-1\n",
      "预测类别：1\n"
     ]
    }
   ],
   "source": [
    "import numpy as np\n",
    "\n",
    "def sign(x):\n",
    "    if x >= 0:\n",
    "        return 1\n",
    "    else:\n",
    "        return -1\n",
    "\n",
    "print('w: '+str(w)+'b: '+str(b))\n",
    "def predict(x):\n",
    "    x_dot=np.dot(x,w)+b\n",
    "    pred_y = sign(x_dot)\n",
    "    print(\"预测类别：%d\" % pred_y)\n",
    "    \n",
    "new_x = [(4,2),(0,0),(1,3),(3,3)]\n",
    "for i in range(len(new_x)):\n",
    "    predict((new_x[i][0],new_x[i][1]))"
   ]
  },
  {
   "cell_type": "code",
   "execution_count": null,
   "metadata": {
    "collapsed": true
   },
   "outputs": [],
   "source": []
  }
 ],
 "metadata": {
  "anaconda-cloud": {},
  "kernelspec": {
   "display_name": "Python [conda env:Anaconda3]",
   "language": "python",
   "name": "conda-env-Anaconda3-py"
  },
  "language_info": {
   "codemirror_mode": {
    "name": "ipython",
    "version": 3
   },
   "file_extension": ".py",
   "mimetype": "text/x-python",
   "name": "python",
   "nbconvert_exporter": "python",
   "pygments_lexer": "ipython3",
   "version": "3.5.6"
  }
 },
 "nbformat": 4,
 "nbformat_minor": 1
}
